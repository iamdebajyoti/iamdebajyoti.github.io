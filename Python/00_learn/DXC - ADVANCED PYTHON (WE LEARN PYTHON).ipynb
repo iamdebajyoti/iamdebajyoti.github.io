{
 "cells": [
  {
   "cell_type": "code",
   "execution_count": 12,
   "metadata": {
    "slideshow": {
     "slide_type": "subslide"
    }
   },
   "outputs": [],
   "source": [
    "D1 = {\"a\" : 10, \"b\" : 20, \"c\" : 30}\n",
    "D1?"
   ]
  },
  {
   "cell_type": "markdown",
   "metadata": {
    "slideshow": {
     "slide_type": "subslide"
    }
   },
   "source": [
    "LAMDA FUNCTIONS"
   ]
  },
  {
   "cell_type": "markdown",
   "metadata": {
    "slideshow": {
     "slide_type": "subslide"
    }
   },
   "source": [
    "TYPE THE FOLLOWING COMMAND in command prompt or shell directly.\n",
    "\n",
    "pip install --trusted-host pypi.org --trusted-host files.pythonhosted.org jupyter --user\n",
    "\n",
    "pip install --trusted-host pypi.org --trusted-host files.pythonhosted.org jupyter\n",
    "\n",
    "Use the following block in a file in user profile or user home folder\n",
    "\n",
    "[global]\n",
    "trusted-host = pypi.python.org\n",
    "               pypi.org\n",
    "               files.pythonhosted.org\n",
    "               \n",
    "               "
   ]
  },
  {
   "cell_type": "code",
   "execution_count": 14,
   "metadata": {
    "slideshow": {
     "slide_type": "subslide"
    }
   },
   "outputs": [
    {
     "name": "stdout",
     "output_type": "stream",
     "text": [
      "('Python', 'Hello')\n"
     ]
    }
   ],
   "source": [
    "def greet_return():\n",
    "    var1 = \"Hello\"\n",
    "    var2 = \"Python\"\n",
    "    return var2, var1\n",
    "\n",
    "print(greet_return())"
   ]
  }
 ],
 "metadata": {
  "celltoolbar": "Slideshow",
  "kernelspec": {
   "display_name": "Python 3",
   "language": "python",
   "name": "python3"
  },
  "language_info": {
   "codemirror_mode": {
    "name": "ipython",
    "version": 3
   },
   "file_extension": ".py",
   "mimetype": "text/x-python",
   "name": "python",
   "nbconvert_exporter": "python",
   "pygments_lexer": "ipython3",
   "version": "3.8.3"
  }
 },
 "nbformat": 4,
 "nbformat_minor": 4
}
